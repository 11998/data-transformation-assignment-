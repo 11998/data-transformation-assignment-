{
 "cells": [
  {
   "cell_type": "code",
   "execution_count": 1,
   "id": "7f131f40",
   "metadata": {},
   "outputs": [],
   "source": [
    "#Import libraries\n",
    "\n",
    "import pandas as pd\n",
    "from datetime import datetime"
   ]
  },
  {
   "cell_type": "code",
   "execution_count": 2,
   "id": "15f2153a",
   "metadata": {},
   "outputs": [
    {
     "name": "stdout",
     "output_type": "stream",
     "text": [
      "Cleaned sales data saved to: C:\\Users\\Kanika\\Desktop\\data-transformation-assignment\\data-transformation-assignment\\PYTHON BASED\\Output\\raw_sales.csv\n"
     ]
    }
   ],
   "source": [
    "\n",
    "def load_data(file_path):\n",
    "    return pd.read_csv(file_path)\n",
    "def clean_integer_column(col):\n",
    "    return pd.to_numeric(col, errors='coerce').fillna(0).astype(int)\n",
    "def clean_float_column(col):\n",
    "    return pd.to_numeric(col, errors='coerce').fillna(0.0).astype(float)\n",
    "def clean_date_column(col):\n",
    "    return pd.to_datetime(col, errors='coerce', dayfirst=False)\n",
    "def compute_total_price(row):\n",
    "    return row['quantity'] * row['price_per_unit']\n",
    "\n",
    "\n",
    "def clean_sales_data(df):\n",
    "    df['order_id'] = clean_integer_column(df['order_id'])\n",
    "    df['product_id'] = clean_integer_column(df['product_id'])\n",
    "    df['quantity'] = clean_integer_column(df['quantity'])\n",
    "    df['price_per_unit'] = clean_float_column(df['price_per_unit'])\n",
    "    df['order_date'] = clean_date_column(df['order_date'])\n",
    "    df['total_price'] = df.apply(compute_total_price, axis=1)\n",
    "    return df\n",
    "\n",
    "\n",
    "def save_cleaned_data(df, output_path):\n",
    "    df.to_csv(output_path, index=False)\n",
    "\n",
    "\n",
    "input_path = r\"C:\\Users\\Kanika\\Desktop\\data-transformation-assignment\\data-transformation-assignment\\PYTHON BASED\\Input\\raw_sales.csv\"\n",
    "output_path = r\"C:\\Users\\Kanika\\Desktop\\data-transformation-assignment\\data-transformation-assignment\\PYTHON BASED\\Output\\raw_sales.csv\"\n",
    "\n",
    "df_raw = load_data(input_path)\n",
    "df_cleaned = clean_sales_data(df_raw)\n",
    "save_cleaned_data(df_cleaned, output_path)\n",
    "\n",
    "print(\"Cleaned sales data saved to:\", output_path)\n",
    "\n",
    "\n",
    "\n"
   ]
  },
  {
   "cell_type": "code",
   "execution_count": null,
   "id": "b64f35c9",
   "metadata": {},
   "outputs": [],
   "source": []
  }
 ],
 "metadata": {
  "kernelspec": {
   "display_name": "Python 3",
   "language": "python",
   "name": "python3"
  },
  "language_info": {
   "codemirror_mode": {
    "name": "ipython",
    "version": 3
   },
   "file_extension": ".py",
   "mimetype": "text/x-python",
   "name": "python",
   "nbconvert_exporter": "python",
   "pygments_lexer": "ipython3",
   "version": "3.9.13"
  }
 },
 "nbformat": 4,
 "nbformat_minor": 5
}
