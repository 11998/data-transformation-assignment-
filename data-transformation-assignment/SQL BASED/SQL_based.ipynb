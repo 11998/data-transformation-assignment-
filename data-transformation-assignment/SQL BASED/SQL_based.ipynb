{
 "cells": [
  {
   "cell_type": "code",
   "execution_count": 1,
   "id": "d5d36ed7",
   "metadata": {},
   "outputs": [],
   "source": [
    "#import libraries\n",
    "import pandas as pd\n",
    "import sqlite3"
   ]
  },
  {
   "cell_type": "code",
   "execution_count": 2,
   "id": "1b374023",
   "metadata": {},
   "outputs": [],
   "source": [
    "\n",
    "# read csv files\n",
    "df_day1 = pd.read_csv(r\"C:\\Users\\Kanika\\Desktop\\data-transformation-assignment\\data-transformation-assignment\\SQL BASED\\products_day1.csv\")\n",
    "df_day2 = pd.read_csv(r\"C:\\Users\\Kanika\\Desktop\\data-transformation-assignment\\data-transformation-assignment\\SQL BASED\\products_day2.csv\")\n",
    "\n"
   ]
  },
  {
   "cell_type": "code",
   "execution_count": 3,
   "id": "298a2e1a",
   "metadata": {},
   "outputs": [],
   "source": [
    "#connect to inmemory databse \n",
    "conn = sqlite3.connect(\":memory:\")\n"
   ]
  },
  {
   "cell_type": "code",
   "execution_count": 4,
   "id": "ac5b94cc",
   "metadata": {},
   "outputs": [
    {
     "data": {
      "text/plain": [
       "6"
      ]
     },
     "execution_count": 4,
     "metadata": {},
     "output_type": "execute_result"
    }
   ],
   "source": [
    "df_day1.to_sql(\"products_day1\", conn, index=False, if_exists=\"replace\")\n",
    "df_day2.to_sql(\"products_day2\", conn, index=False, if_exists=\"replace\")"
   ]
  },
  {
   "cell_type": "code",
   "execution_count": 5,
   "id": "fd7ad370",
   "metadata": {},
   "outputs": [
    {
     "name": "stdout",
     "output_type": "stream",
     "text": [
      "   product_id         name    category  price  stock change_type\n",
      "0         107  Smart Watch   Wearables  99.00     50       ADDED\n",
      "1         106     Notebook  Stationery   2.99    300     REMOVED\n"
     ]
    }
   ],
   "source": [
    "#- Identify full rows that were ADDED or REMOVED.\n",
    "\n",
    "query1 = \"\"\"\n",
    "SELECT d2.product_id, d2.name, d2.category, d2.price, d2.stock, 'ADDED' AS change_type\n",
    "FROM products_day2 d2\n",
    "WHERE d2.product_id NOT IN (SELECT product_id FROM products_day1)\n",
    "\n",
    "UNION ALL\n",
    "\n",
    "SELECT d1.product_id, d1.name, d1.category, d1.price, d1.stock, 'REMOVED' AS change_type\n",
    "FROM products_day1 d1\n",
    "WHERE d1.product_id NOT IN (SELECT product_id FROM products_day2)\n",
    "\"\"\"\n",
    "\n",
    "result_query1 = pd.read_sql_query(query1, conn)\n",
    "print(result_query1)\n"
   ]
  },
  {
   "cell_type": "code",
   "execution_count": 6,
   "id": "1cc732c6",
   "metadata": {},
   "outputs": [
    {
     "name": "stdout",
     "output_type": "stream",
     "text": [
      "   product_id column_changed  old_value  new_value\n",
      "0         101          price      25.99      23.99\n",
      "1         105          price      35.00      37.00\n",
      "2         102          stock     200.00     180.00\n"
     ]
    }
   ],
   "source": [
    "#- Compare matching rows and detect column-level changes (e.g., price, stock).\n",
    "\n",
    "query2 = \"\"\"\n",
    "SELECT d1.product_id, 'price' AS column_changed, d1.price AS old_value, d2.price AS new_value\n",
    "FROM products_day1 d1\n",
    "JOIN products_day2 d2 ON d1.product_id = d2.product_id\n",
    "WHERE d1.price != d2.price\n",
    "\n",
    "UNION ALL\n",
    "\n",
    "SELECT d1.product_id, 'stock' AS column_changed, d1.stock AS old_value, d2.stock AS new_value\n",
    "FROM products_day1 d1\n",
    "JOIN products_day2 d2 ON d1.product_id = d2.product_id\n",
    "WHERE d1.stock != d2.stock\n",
    "\"\"\"\n",
    "\n",
    "result_query2 = pd.read_sql_query(query2, conn)\n",
    "print(result_query2)\n"
   ]
  },
  {
   "cell_type": "code",
   "execution_count": null,
   "id": "8fbf08c1",
   "metadata": {},
   "outputs": [],
   "source": []
  }
 ],
 "metadata": {
  "kernelspec": {
   "display_name": "Python 3",
   "language": "python",
   "name": "python3"
  },
  "language_info": {
   "codemirror_mode": {
    "name": "ipython",
    "version": 3
   },
   "file_extension": ".py",
   "mimetype": "text/x-python",
   "name": "python",
   "nbconvert_exporter": "python",
   "pygments_lexer": "ipython3",
   "version": "3.9.13"
  }
 },
 "nbformat": 4,
 "nbformat_minor": 5
}
